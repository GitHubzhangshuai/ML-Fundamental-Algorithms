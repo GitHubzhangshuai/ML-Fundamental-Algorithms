{
 "cells": [
  {
   "cell_type": "code",
   "execution_count": 1,
   "metadata": {},
   "outputs": [],
   "source": [
    "import numpy as np"
   ]
  },
  {
   "cell_type": "code",
   "execution_count": 6,
   "metadata": {},
   "outputs": [
    {
     "name": "stdout",
     "output_type": "stream",
     "text": [
      "[[ 0.65098778 -0.10304898 -0.24208162 -0.12902104]\n",
      " [ 0.98462474  0.06419801  0.2795996   0.59898095]\n",
      " [ 0.50009434 -0.0884148   0.03933676 -0.80373457]]\n",
      "[[-0.28520233]\n",
      " [-0.652677  ]\n",
      " [-0.11070331]\n",
      " [-0.96899465]]\n"
     ]
    }
   ],
   "source": [
    "X = np.array([[1,0,0],[1,0,1],[1,1,0],[1,1,1]])\n",
    "Y = np.array([[0,1,1,0]])\n",
    "V = np.random.random((3,4))*2-1\n",
    "W = np.random.random((4,1))*2-1\n",
    "print(V)\n",
    "print(W)\n",
    "lr = 0.11\n",
    "\n",
    "def sigmoid(x):\n",
    "    return 1/(1+np.exp(-x))\n",
    "def dsigmoid(x):\n",
    "    return x*(1-x)\n",
    "def update():\n",
    "    global X,Y,W,V,lr\n",
    "    L1 = sigmoid(np.dot(X,V))\n",
    "    L2 = sigmoid(np.dot(L1,W))\n",
    "    L2_delta = (Y.T-L2)*dsigmoid(L2)\n",
    "    L1_delta = L2_delta.dot(W.T)*dsigmoid(L1)\n",
    "    W_C=lr*L1.T.dot(L2_delta)\n",
    "    V_C=lr*X.T.dot(L1_delta)\n",
    "    W=W+W_C\n",
    "    V=V+V_C"
   ]
  },
  {
   "cell_type": "code",
   "execution_count": 8,
   "metadata": {},
   "outputs": [
    {
     "name": "stdout",
     "output_type": "stream",
     "text": [
      "Error: 0.025971185845861035\n",
      "Error: 0.0254941323958677\n",
      "Error: 0.02504044293023611\n",
      "Error: 0.02460834172205948\n",
      "Error: 0.024196231905257035\n",
      "Error: 0.023802673357139762\n",
      "Error: 0.0234263637901659\n",
      "Error: 0.023066122522554237\n",
      "Error: 0.022720876495151907\n",
      "Error: 0.022389648179917676\n",
      "Error: 0.022071545087905604\n",
      "Error: 0.021765750635041114\n",
      "Error: 0.021471516164827238\n",
      "Error: 0.021188153960358815\n",
      "Error: 0.020915031105215993\n",
      "Error: 0.02065156407513245\n",
      "Error: 0.020397213960753002\n",
      "Error: 0.020151482237041968\n",
      "Error: 0.019913907007578197\n",
      "Error: 0.01968405966255121\n",
      "Error: 0.019461541898122242\n",
      "Error: 0.019245983052254022\n",
      "Error: 0.019037037718384133\n",
      "Error: 0.01883438360361766\n",
      "Error: 0.018637719602610178\n",
      "Error: 0.018446764062138264\n",
      "Error: 0.0182612532146188\n",
      "Error: 0.01808093976162868\n",
      "Error: 0.01790559159087089\n",
      "Error: 0.01773499061209243\n",
      "Error: 0.01756893169923682\n",
      "Error: 0.01740722172764161\n",
      "Error: 0.01724967869642942\n",
      "Error: 0.01709613092738601\n",
      "Error: 0.01694641633262768\n",
      "Error: 0.016800381744234382\n",
      "Error: 0.016657882299787832\n",
      "Error: 0.016518780878428257\n",
      "Error: 0.01638294758262284\n",
      "Error: 0.016250259261363423\n",
      "[[0.01450357]\n",
      " [0.98815067]\n",
      " [0.97974349]\n",
      " [0.01787401]]\n",
      "0\n",
      "1\n",
      "1\n",
      "0\n"
     ]
    }
   ],
   "source": [
    "for i in range(20000):\n",
    "    update()\n",
    "    if i%500==0:\n",
    "        L1 = sigmoid(np.dot(X,V))\n",
    "        L2 = sigmoid(np.dot(L1,W))\n",
    "        print('Error:', np.mean(np.abs(Y.T-L2)))\n",
    "\n",
    "L1 = sigmoid(np.dot(X,V))\n",
    "L2 = sigmoid(np.dot(L1,W))\n",
    "print(L2)\n",
    "\n",
    "def judge(x):\n",
    "    if x>=0.5:\n",
    "        return 1\n",
    "    else:\n",
    "        return 0\n",
    "\n",
    "for i in map(judge,L2):\n",
    "    print(i)"
   ]
  },
  {
   "cell_type": "code",
   "execution_count": null,
   "metadata": {},
   "outputs": [],
   "source": []
  }
 ],
 "metadata": {
  "kernelspec": {
   "display_name": "Python 3",
   "language": "python",
   "name": "python3"
  },
  "language_info": {
   "codemirror_mode": {
    "name": "ipython",
    "version": 3
   },
   "file_extension": ".py",
   "mimetype": "text/x-python",
   "name": "python",
   "nbconvert_exporter": "python",
   "pygments_lexer": "ipython3",
   "version": "3.6.4"
  }
 },
 "nbformat": 4,
 "nbformat_minor": 2
}
