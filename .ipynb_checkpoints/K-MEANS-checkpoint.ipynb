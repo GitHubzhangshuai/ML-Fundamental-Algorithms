{
 "cells": [
  {
   "cell_type": "code",
   "execution_count": 1,
   "metadata": {},
   "outputs": [],
   "source": [
    "import numpy as np\n",
    "import matplotlib.pyplot as plt"
   ]
  },
  {
   "cell_type": "code",
   "execution_count": 3,
   "metadata": {},
   "outputs": [
    {
     "data": {
      "image/png": "[encoded data removed]",
      "text/plain": [
       "<matplotlib.figure.Figure at 0x2fad4291a90>"
      ]
     },
     "metadata": {},
     "output_type": "display_data"
    }
   ],
   "source": [
    "data = np.genfromtxt('./data/kmeans.txt',delimiter='')\n",
    "plt.scatter(data[:,0],data[:,1])\n",
    "plt.show()"
   ]
  },
  {
   "cell_type": "code",
   "execution_count": 4,
   "metadata": {},
   "outputs": [
    {
     "data": {
      "text/plain": [
       "(80, 2)"
      ]
     },
     "execution_count": 4,
     "metadata": {},
     "output_type": "execute_result"
    }
   ],
   "source": [
    "data.shape"
   ]
  },
  {
   "cell_type": "code",
   "execution_count": 14,
   "metadata": {},
   "outputs": [],
   "source": [
    "def euclDistance(vector1,vector2):\n",
    "    return np.sqrt(sum((vector1-vector2)**2))\n",
    "def initCentroids(data,k):\n",
    "    numSamples,dim = data.shape\n",
    "    centroids = np.zeros((k,dim))\n",
    "    for i in range(k):\n",
    "        index = int(np.random.uniform(0,numSamples))\n",
    "        centroids[i,:]=data[index,:]\n",
    "    return centroids\n",
    "def kmeans(data,k):\n",
    "    numSamples=data.shape[0]\n",
    "    clusterData=np.array(np.zeros((numSamples,2)))\n",
    "    clusterChanged = True\n",
    "    centroids=initCentroids(data,k)\n",
    "    while clusterChanged:\n",
    "        clusterChanged=False\n",
    "        for i in range(numSamples):\n",
    "            minDist=10000.0\n",
    "            minIndex=0\n",
    "            for j in range(k):\n",
    "                distance=euclDistance(centroids[j,:],data[i,:])\n",
    "                if distance<minDist:\n",
    "                    minDist = distance\n",
    "                    clusterData[i,1]=minDist\n",
    "                    minIndex=j\n",
    "            if clusterData[i,0] != minIndex:\n",
    "                clusterChanged =True\n",
    "                clusterData[i,0]=minIndex\n",
    "        for j in range(k):\n",
    "            cluster_index = np.nonzero(clusterData[:,0]==j)\n",
    "            pointsInCluster=data[cluster_index]\n",
    "            centroids[j,:]=np.mean(pointsInCluster,axis=0)\n",
    "    return centroids,clusterData\n",
    "\n",
    "def showCluster(data,k,centroids,clusterData):\n",
    "    numSamples,dim=data.shape\n",
    "    if dim!=2:\n",
    "        print('dimension of your data is not 2!')\n",
    "        return 1\n",
    "    mark = ['or','ob','og','ok','^r','+r','sr','dr','<r','pr']\n",
    "    if k>len(mark):\n",
    "        print('Your k is too large!')\n",
    "        return 1\n",
    "    for i in range(numSamples):\n",
    "        markIndex=int(clusterData[i,0])\n",
    "        plt.plot(data[i,0],data[i,1],mark[markIndex])\n",
    "    mark = ['*r','*b','*g','*k','^b','+b','sb','db','<b','pb']\n",
    "    for i in range(k):\n",
    "        plt.plot(centroids[i,0],centroids[i,1],mark[i],markersize=20)\n",
    "    plt.show()"
   ]
  },
  {
   "cell_type": "code",
   "execution_count": 15,
   "metadata": {},
   "outputs": [
    {
     "name": "stdout",
     "output_type": "stream",
     "text": [
      "Cluster complete\n"
     ]
    },
    {
     "data": {
      "image/png": "[encoded data removed]",
      "text/plain": [
       "<matplotlib.figure.Figure at 0x2fad6b4d5c0>"
      ]
     },
     "metadata": {},
     "output_type": "display_data"
    }
   ],
   "source": [
    "k = 4\n",
    "centroids,clusterData = kmeans(data,k)\n",
    "if np.isnan(centroids).any():\n",
    "    print('Error')\n",
    "else:\n",
    "    print('Cluster complete')\n",
    "showCluster(data,k,centroids,clusterData)"
   ]
  },
  {
   "cell_type": "code",
   "execution_count": 16,
   "metadata": {},
   "outputs": [
    {
     "data": {
      "text/plain": [
       "array([[ 2.6265299 ,  3.10868015],\n",
       "       [-2.46154315,  2.78737555],\n",
       "       [ 2.80293085, -2.7315146 ],\n",
       "       [-3.38237045, -2.9473363 ]])"
      ]
     },
     "execution_count": 16,
     "metadata": {},
     "output_type": "execute_result"
    }
   ],
   "source": [
    "centroids"
   ]
  },
  {
   "cell_type": "code",
   "execution_count": 17,
   "metadata": {},
   "outputs": [
    {
     "data": {
      "text/plain": [
       "array([[0, 1],\n",
       "       [0, 1],\n",
       "       [0, 1],\n",
       "       [0, 1]])"
      ]
     },
     "execution_count": 17,
     "metadata": {},
     "output_type": "execute_result"
    }
   ],
   "source": [
    "x_test=[0,1]\n",
    "np.tile(x_test,(k,1))"
   ]
  },
  {
   "cell_type": "code",
   "execution_count": 18,
   "metadata": {},
   "outputs": [
    {
     "data": {
      "text/plain": [
       "array([[-2.6265299 , -2.10868015],\n",
       "       [ 2.46154315, -1.78737555],\n",
       "       [-2.80293085,  3.7315146 ],\n",
       "       [ 3.38237045,  3.9473363 ]])"
      ]
     },
     "execution_count": 18,
     "metadata": {},
     "output_type": "execute_result"
    }
   ],
   "source": [
    "np.tile(x_test,(k,1))-centroids"
   ]
  },
  {
   "cell_type": "code",
   "execution_count": 19,
   "metadata": {},
   "outputs": [
    {
     "data": {
      "text/plain": [
       "array([[ 6.89865932,  4.44653198],\n",
       "       [ 6.05919468,  3.19471136],\n",
       "       [ 7.85642135, 13.92420121],\n",
       "       [11.44042986, 15.58146387]])"
      ]
     },
     "execution_count": 19,
     "metadata": {},
     "output_type": "execute_result"
    }
   ],
   "source": [
    "(np.tile(x_test,(k,1))-centroids)**2"
   ]
  },
  {
   "cell_type": "code",
   "execution_count": 22,
   "metadata": {},
   "outputs": [
    {
     "data": {
      "text/plain": [
       "array([11.34519129,  9.25390604, 21.78062256, 27.02189373])"
      ]
     },
     "execution_count": 22,
     "metadata": {},
     "output_type": "execute_result"
    }
   ],
   "source": [
    "((np.tile(x_test,(k,1))-centroids)**2).sum(axis=1)"
   ]
  },
  {
   "cell_type": "code",
   "execution_count": 23,
   "metadata": {},
   "outputs": [
    {
     "data": {
      "text/plain": [
       "0"
      ]
     },
     "execution_count": 23,
     "metadata": {},
     "output_type": "execute_result"
    }
   ],
   "source": [
    "np.argmin(((np.tile(x_test,(k,1))-centroids)*2).sum(axis=1))"
   ]
  },
  {
   "cell_type": "code",
   "execution_count": 30,
   "metadata": {},
   "outputs": [],
   "source": [
    "def predict(datas):\n",
    "    return np.array([np.argmin(((np.tile(data,(k,1))-centroids)**2).sum(axis=1)) for data in datas])"
   ]
  },
  {
   "cell_type": "code",
   "execution_count": 31,
   "metadata": {},
   "outputs": [
    {
     "data": {
      "image/png": "[encoded data removed]",
      "text/plain": [
       "<matplotlib.figure.Figure at 0x2fad78c35f8>"
      ]
     },
     "metadata": {},
     "output_type": "display_data"
    }
   ],
   "source": [
    "# 获取数据值所在的范围\n",
    "x_min, x_max = data[:, 0].min() - 1, data[:, 0].max() + 1\n",
    "y_min, y_max = data[:, 1].min() - 1, data[:, 1].max() + 1\n",
    "\n",
    "# 生成网格矩阵\n",
    "xx, yy = np.meshgrid(np.arange(x_min, x_max, 0.02),\n",
    "                     np.arange(y_min, y_max, 0.02))\n",
    "\n",
    "z = predict(np.c_[xx.ravel(),yy.ravel()])\n",
    "z = z.reshape(xx.shape)\n",
    "cs = plt.contourf(xx,yy,z)\n",
    "showCluster(data,k,centroids,clusterData)"
   ]
  },
  {
   "cell_type": "code",
   "execution_count": null,
   "metadata": {},
   "outputs": [],
   "source": []
  },
  {
   "cell_type": "code",
   "execution_count": null,
   "metadata": {},
   "outputs": [],
   "source": []
  }
 ],
 "metadata": {
  "kernelspec": {
   "display_name": "Python 3",
   "language": "python",
   "name": "python3"
  },
  "language_info": {
   "codemirror_mode": {
    "name": "ipython",
    "version": 3
   },
   "file_extension": ".py",
   "mimetype": "text/x-python",
   "name": "python",
   "nbconvert_exporter": "python",
   "pygments_lexer": "ipython3",
   "version": "3.6.4"
  }
 },
 "nbformat": 4,
 "nbformat_minor": 2
}
